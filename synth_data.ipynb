{
 "cells": [
  {
   "cell_type": "code",
   "execution_count": 1,
   "id": "2cc3d5e9",
   "metadata": {},
   "outputs": [],
   "source": [
    "import numpy as np\n",
    "import pandas as pd\n",
    "import datetime as dt"
   ]
  },
  {
   "cell_type": "code",
   "execution_count": 2,
   "id": "1518ad16",
   "metadata": {},
   "outputs": [],
   "source": [
    "mu: float = .0\n",
    "var: float = 1.0\n",
    "n_samples: int = 100000\n",
    "\n",
    "j = np.random.normal(mu, var, n_samples)"
   ]
  },
  {
   "cell_type": "code",
   "execution_count": 3,
   "id": "25fcce6a",
   "metadata": {},
   "outputs": [
    {
     "data": {
      "text/plain": [
       "array([-1.23642374,  0.73110013,  0.24824202, ...,  0.65865905,\n",
       "       -1.49667692, -0.38417276])"
      ]
     },
     "execution_count": 3,
     "metadata": {},
     "output_type": "execute_result"
    }
   ],
   "source": [
    "j"
   ]
  },
  {
   "cell_type": "code",
   "execution_count": 5,
   "id": "3a6fae20",
   "metadata": {},
   "outputs": [
    {
     "name": "stdout",
     "output_type": "stream",
     "text": [
      "Traceback (most recent call last):\r\n",
      "  File \"/opt/anaconda3/bin/matplotlib\", line 11, in <module>\r\n",
      "    sys.exit(plotting._matplotlib())\r\n",
      "AttributeError: module 'pandas.plotting' has no attribute '_matplotlib'\r\n"
     ]
    },
    {
     "data": {
      "image/png": "[encoded data removed]",
      "text/plain": [
       "<Figure size 432x288 with 1 Axes>"
      ]
     },
     "metadata": {
      "needs_background": "light"
     },
     "output_type": "display_data"
    }
   ],
   "source": [
    "import matplotlib.pyplot as plt\n",
    "!matplotlib inline\n",
    "\n",
    "plt.plot(j)\n",
    "plt.show()"
   ]
  },
  {
   "cell_type": "code",
   "execution_count": 7,
   "id": "74336ed6",
   "metadata": {},
   "outputs": [
    {
     "data": {
      "text/plain": [
       "DatetimeIndex(['2022-04-23 03:50:47.150591', '2022-04-23 03:51:47.150591',\n",
       "               '2022-04-23 03:52:47.150591', '2022-04-23 03:53:47.150591',\n",
       "               '2022-04-23 03:54:47.150591', '2022-04-23 03:55:47.150591',\n",
       "               '2022-04-23 03:56:47.150591', '2022-04-23 03:57:47.150591',\n",
       "               '2022-04-23 03:58:47.150591', '2022-04-23 03:59:47.150591',\n",
       "               ...\n",
       "               '2022-07-01 14:20:47.150591', '2022-07-01 14:21:47.150591',\n",
       "               '2022-07-01 14:22:47.150591', '2022-07-01 14:23:47.150591',\n",
       "               '2022-07-01 14:24:47.150591', '2022-07-01 14:25:47.150591',\n",
       "               '2022-07-01 14:26:47.150591', '2022-07-01 14:27:47.150591',\n",
       "               '2022-07-01 14:28:47.150591', '2022-07-01 14:29:47.150591'],\n",
       "              dtype='datetime64[ns]', length=100000, freq='T')"
      ]
     },
     "execution_count": 7,
     "metadata": {},
     "output_type": "execute_result"
    }
   ],
   "source": [
    "# create dataframe of high-freq dates\n",
    "df0 = pd.date_range(periods=n_samples, freq=pd.tseries.offsets.Minute(), end=dt.datetime.today())\n",
    "df0"
   ]
  },
  {
   "cell_type": "code",
   "execution_count": 8,
   "id": "f75c5211",
   "metadata": {},
   "outputs": [],
   "source": [
    "X = pd.Series(j, index=df0, name= 'close').to_frame()"
   ]
  },
  {
   "cell_type": "code",
   "execution_count": 9,
   "id": "df4ee08f",
   "metadata": {},
   "outputs": [
    {
     "name": "stdout",
     "output_type": "stream",
     "text": [
      "The max of the synthetic dataset is close    4.622292\n",
      "dtype: float64.\n",
      "The min of the synthetic dataset is close   -4.095445\n",
      "dtype: float64.\n",
      "The mean of the synthetic dataset is close   -0.00051\n",
      "dtype: float64.\n",
      "The variance of the synthetic dataset is close    0.999609\n",
      "dtype: float64.\n"
     ]
    }
   ],
   "source": [
    "print(f\"The max of the synthetic dataset is {X.max()}.\")\n",
    "print(f\"The min of the synthetic dataset is {X.min()}.\")\n",
    "print(f\"The mean of the synthetic dataset is {X.mean()}.\")\n",
    "print(f\"The variance of the synthetic dataset is {X.var()}.\")"
   ]
  },
  {
   "cell_type": "code",
   "execution_count": 10,
   "id": "08bae32b",
   "metadata": {},
   "outputs": [
    {
     "data": {
      "text/html": [
       "<div>\n",
       "<style scoped>\n",
       "    .dataframe tbody tr th:only-of-type {\n",
       "        vertical-align: middle;\n",
       "    }\n",
       "\n",
       "    .dataframe tbody tr th {\n",
       "        vertical-align: top;\n",
       "    }\n",
       "\n",
       "    .dataframe thead th {\n",
       "        text-align: right;\n",
       "    }\n",
       "</style>\n",
       "<table border=\"1\" class=\"dataframe\">\n",
       "  <thead>\n",
       "    <tr style=\"text-align: right;\">\n",
       "      <th></th>\n",
       "      <th>close</th>\n",
       "    </tr>\n",
       "  </thead>\n",
       "  <tbody>\n",
       "    <tr>\n",
       "      <th>2022-04-23 03:50:47.150591</th>\n",
       "      <td>-1.236424</td>\n",
       "    </tr>\n",
       "    <tr>\n",
       "      <th>2022-04-23 03:51:47.150591</th>\n",
       "      <td>0.731100</td>\n",
       "    </tr>\n",
       "    <tr>\n",
       "      <th>2022-04-23 03:52:47.150591</th>\n",
       "      <td>0.248242</td>\n",
       "    </tr>\n",
       "    <tr>\n",
       "      <th>2022-04-23 03:53:47.150591</th>\n",
       "      <td>-0.636889</td>\n",
       "    </tr>\n",
       "    <tr>\n",
       "      <th>2022-04-23 03:54:47.150591</th>\n",
       "      <td>-0.139853</td>\n",
       "    </tr>\n",
       "    <tr>\n",
       "      <th>...</th>\n",
       "      <td>...</td>\n",
       "    </tr>\n",
       "    <tr>\n",
       "      <th>2022-07-01 14:25:47.150591</th>\n",
       "      <td>0.688433</td>\n",
       "    </tr>\n",
       "    <tr>\n",
       "      <th>2022-07-01 14:26:47.150591</th>\n",
       "      <td>-0.282267</td>\n",
       "    </tr>\n",
       "    <tr>\n",
       "      <th>2022-07-01 14:27:47.150591</th>\n",
       "      <td>0.658659</td>\n",
       "    </tr>\n",
       "    <tr>\n",
       "      <th>2022-07-01 14:28:47.150591</th>\n",
       "      <td>-1.496677</td>\n",
       "    </tr>\n",
       "    <tr>\n",
       "      <th>2022-07-01 14:29:47.150591</th>\n",
       "      <td>-0.384173</td>\n",
       "    </tr>\n",
       "  </tbody>\n",
       "</table>\n",
       "<p>100000 rows × 1 columns</p>\n",
       "</div>"
      ],
      "text/plain": [
       "                               close\n",
       "2022-04-23 03:50:47.150591 -1.236424\n",
       "2022-04-23 03:51:47.150591  0.731100\n",
       "2022-04-23 03:52:47.150591  0.248242\n",
       "2022-04-23 03:53:47.150591 -0.636889\n",
       "2022-04-23 03:54:47.150591 -0.139853\n",
       "...                              ...\n",
       "2022-07-01 14:25:47.150591  0.688433\n",
       "2022-07-01 14:26:47.150591 -0.282267\n",
       "2022-07-01 14:27:47.150591  0.658659\n",
       "2022-07-01 14:28:47.150591 -1.496677\n",
       "2022-07-01 14:29:47.150591 -0.384173\n",
       "\n",
       "[100000 rows x 1 columns]"
      ]
     },
     "execution_count": 10,
     "metadata": {},
     "output_type": "execute_result"
    }
   ],
   "source": [
    "X"
   ]
  },
  {
   "cell_type": "code",
   "execution_count": 11,
   "id": "46afd56c",
   "metadata": {},
   "outputs": [
    {
     "data": {
      "text/html": [
       "<div>\n",
       "<style scoped>\n",
       "    .dataframe tbody tr th:only-of-type {\n",
       "        vertical-align: middle;\n",
       "    }\n",
       "\n",
       "    .dataframe tbody tr th {\n",
       "        vertical-align: top;\n",
       "    }\n",
       "\n",
       "    .dataframe thead th {\n",
       "        text-align: right;\n",
       "    }\n",
       "</style>\n",
       "<table border=\"1\" class=\"dataframe\">\n",
       "  <thead>\n",
       "    <tr style=\"text-align: right;\">\n",
       "      <th></th>\n",
       "      <th>close</th>\n",
       "    </tr>\n",
       "  </thead>\n",
       "  <tbody>\n",
       "    <tr>\n",
       "      <th>2022-04-23 03:50:47.150591</th>\n",
       "      <td>-1.236424</td>\n",
       "    </tr>\n",
       "    <tr>\n",
       "      <th>2022-04-23 03:51:47.150591</th>\n",
       "      <td>-0.505324</td>\n",
       "    </tr>\n",
       "    <tr>\n",
       "      <th>2022-04-23 03:52:47.150591</th>\n",
       "      <td>-0.257082</td>\n",
       "    </tr>\n",
       "    <tr>\n",
       "      <th>2022-04-23 03:53:47.150591</th>\n",
       "      <td>-0.893971</td>\n",
       "    </tr>\n",
       "    <tr>\n",
       "      <th>2022-04-23 03:54:47.150591</th>\n",
       "      <td>-1.033824</td>\n",
       "    </tr>\n",
       "    <tr>\n",
       "      <th>...</th>\n",
       "      <td>...</td>\n",
       "    </tr>\n",
       "    <tr>\n",
       "      <th>2022-07-01 14:25:47.150591</th>\n",
       "      <td>-49.522754</td>\n",
       "    </tr>\n",
       "    <tr>\n",
       "      <th>2022-07-01 14:26:47.150591</th>\n",
       "      <td>-49.805021</td>\n",
       "    </tr>\n",
       "    <tr>\n",
       "      <th>2022-07-01 14:27:47.150591</th>\n",
       "      <td>-49.146362</td>\n",
       "    </tr>\n",
       "    <tr>\n",
       "      <th>2022-07-01 14:28:47.150591</th>\n",
       "      <td>-50.643039</td>\n",
       "    </tr>\n",
       "    <tr>\n",
       "      <th>2022-07-01 14:29:47.150591</th>\n",
       "      <td>-51.027212</td>\n",
       "    </tr>\n",
       "  </tbody>\n",
       "</table>\n",
       "<p>100000 rows × 1 columns</p>\n",
       "</div>"
      ],
      "text/plain": [
       "                                close\n",
       "2022-04-23 03:50:47.150591  -1.236424\n",
       "2022-04-23 03:51:47.150591  -0.505324\n",
       "2022-04-23 03:52:47.150591  -0.257082\n",
       "2022-04-23 03:53:47.150591  -0.893971\n",
       "2022-04-23 03:54:47.150591  -1.033824\n",
       "...                               ...\n",
       "2022-07-01 14:25:47.150591 -49.522754\n",
       "2022-07-01 14:26:47.150591 -49.805021\n",
       "2022-07-01 14:27:47.150591 -49.146362\n",
       "2022-07-01 14:28:47.150591 -50.643039\n",
       "2022-07-01 14:29:47.150591 -51.027212\n",
       "\n",
       "[100000 rows x 1 columns]"
      ]
     },
     "execution_count": 11,
     "metadata": {},
     "output_type": "execute_result"
    }
   ],
   "source": [
    "X = X.cumsum()\n",
    "X"
   ]
  },
  {
   "cell_type": "code",
   "execution_count": 13,
   "id": "be9f83c4",
   "metadata": {},
   "outputs": [],
   "source": [
    "# initialize adjusted list\n",
    "close_adj = []\n",
    "# loop to scale up data to get rid of negatives\n",
    "for i in X['close']:\n",
    "    value = i +500\n",
    "    close_adj.append(value)\n",
    "# adding list of adj prices as new column\n",
    "X['Adjusted Close'] = close_adj"
   ]
  },
  {
   "cell_type": "code",
   "execution_count": 14,
   "id": "cce0cb6a",
   "metadata": {},
   "outputs": [
    {
     "name": "stdout",
     "output_type": "stream",
     "text": [
      "                            Adjusted Close\n",
      "2022-04-23 03:50:47.150591      498.763576\n",
      "2022-04-23 03:51:47.150591      499.494676\n",
      "2022-04-23 03:52:47.150591      499.742918\n",
      "2022-04-23 03:53:47.150591      499.106029\n",
      "2022-04-23 03:54:47.150591      498.966176\n",
      "...                                    ...\n",
      "2022-07-01 14:25:47.150591      450.477246\n",
      "2022-07-01 14:26:47.150591      450.194979\n",
      "2022-07-01 14:27:47.150591      450.853638\n",
      "2022-07-01 14:28:47.150591      449.356961\n",
      "2022-07-01 14:29:47.150591      448.972788\n",
      "\n",
      "[100000 rows x 1 columns]\n"
     ]
    },
    {
     "name": "stderr",
     "output_type": "stream",
     "text": [
      "/var/folders/24/zq2kr6wj56n_z35x877bp6yr0000gn/T/ipykernel_8313/2272066429.py:2: FutureWarning: In a future version of pandas all arguments of DataFrame.drop except for the argument 'labels' will be keyword-only.\n",
      "  X = X.drop('close',1)\n"
     ]
    }
   ],
   "source": [
    "# let's get rid of the old column\n",
    "X = X.drop('close',1)\n",
    "print(X)"
   ]
  },
  {
   "cell_type": "code",
   "execution_count": 17,
   "id": "eb14416c",
   "metadata": {},
   "outputs": [
    {
     "data": {
      "image/png": "[encoded data removed]",
      "text/plain": [
       "<Figure size 864x576 with 1 Axes>"
      ]
     },
     "metadata": {
      "needs_background": "light"
     },
     "output_type": "display_data"
    }
   ],
   "source": [
    "# now let's plot it \n",
    "plt.plot(X)\n",
    "plt.title('Synthetic Stock Data')\n",
    "plt.xlabel('Date')\n",
    "plt.ylabel('Price')\n",
    "plt.rcParams['figure.figsize'] = (15,8)\n",
    "plt.show()"
   ]
  },
  {
   "cell_type": "code",
   "execution_count": 18,
   "id": "bdf74152",
   "metadata": {},
   "outputs": [
    {
     "name": "stdout",
     "output_type": "stream",
     "text": [
      "The max of the synthetic dataset is Adjusted Close    664.62922\n",
      "dtype: float64.\n",
      "The min of the synthetic dataset is Adjusted Close    107.410448\n",
      "dtype: float64.\n",
      "The mean of the synthetic dataset is Adjusted Close    363.373497\n",
      "dtype: float64.\n",
      "The variance of the synthetic dataset is Adjusted Close    18858.154482\n",
      "dtype: float64.\n"
     ]
    }
   ],
   "source": [
    "print(f\"The max of the synthetic dataset is {X.max()}.\")\n",
    "print(f\"The min of the synthetic dataset is {X.min()}.\")\n",
    "print(f\"The mean of the synthetic dataset is {X.mean()}.\")\n",
    "print(f\"The variance of the synthetic dataset is {X.var()}.\")"
   ]
  },
  {
   "cell_type": "code",
   "execution_count": null,
   "id": "b03302c8",
   "metadata": {},
   "outputs": [],
   "source": []
  }
 ],
 "metadata": {
  "kernelspec": {
   "display_name": "advfinML",
   "language": "python",
   "name": "advfinml"
  },
  "language_info": {
   "codemirror_mode": {
    "name": "ipython",
    "version": 3
   },
   "file_extension": ".py",
   "mimetype": "text/x-python",
   "name": "python",
   "nbconvert_exporter": "python",
   "pygments_lexer": "ipython3",
   "version": "3.9.7"
  }
 },
 "nbformat": 4,
 "nbformat_minor": 5
}
